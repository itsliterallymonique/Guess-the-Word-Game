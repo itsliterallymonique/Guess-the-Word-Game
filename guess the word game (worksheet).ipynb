{
  "nbformat": 4,
  "nbformat_minor": 0,
  "metadata": {
    "colab": {
      "name": "guess the word game (worksheet).ipynb",
      "provenance": [],
      "toc_visible": true
    },
    "kernelspec": {
      "name": "python3",
      "display_name": "Python 3"
    }
  },
  "cells": [
    {
      "cell_type": "markdown",
      "metadata": {
        "id": "7yqPNpLqUHDz"
      },
      "source": [
        "### Guess the Word Game using Python!\n",
        "Here we will learn to create a guess the word game using Python, a programming language. Your program will generate a random word that the user has to guess!"
      ]
    },
    {
      "cell_type": "markdown",
      "metadata": {
        "id": "VvIc1ds7YoG-"
      },
      "source": [
        "# Investigation\n",
        "Let's take a look at some of the key features we need for this program that you might not be familiar with! Here is what we will take a look at:\n",
        "\n",
        "\n",
        "*   The Random Python Library\n",
        "*   Lists\n",
        "*   If...else statements\n",
        "*   While loops\n",
        "*   For loops\n",
        "\n",
        "** If you already know these concepts, skip to the next section!\n",
        "\n"
      ]
    },
    {
      "cell_type": "markdown",
      "metadata": {
        "id": "rh__5v_cVXQL"
      },
      "source": [
        "## Random Python Library\n",
        "A **library (or module)** is a file which contains a set of functions that you can include in your program!\n",
        "This Python library is a built-in module used to generate random numbers. There are a few **functions (or methods)** in this library, however you will only need to use the **randint()** function.\n",
        "Whenever using a library, you must import it.**bold text**\n",
        "The **randint()** function generates a random number between the given range. Test out the code below to understand how this function works!"
      ]
    },
    {
      "cell_type": "code",
      "metadata": {
        "id": "SBrp4KwNzd2h"
      },
      "source": [
        "# import the random library\n",
        "import random\n",
        "\n",
        "# to generate a number between 0 and 10 inclusive\n",
        "print(random.randint(0, 10))\n",
        "\n",
        "# try generating and printing a random number between 90 and 100 inclusive\n",
        "\n"
      ],
      "execution_count": null,
      "outputs": []
    },
    {
      "cell_type": "markdown",
      "metadata": {
        "id": "9xL-gizS3Axi"
      },
      "source": [
        "## Lists\n",
        "Lists store multiple items in a single variable. There are some key features of lists which make them extremely useful to programmers:\n",
        "\n",
        "\n",
        "*   They are ordered. The items in the list have a defined order which will not change. New items added to the list will be placed at the end.\n",
        "*   They can be changed. Items can be added, changed and removed in a list after it has been created\n",
        "*   They are indexed. The first item has an index of [0], the second item has index of [1], etc."
      ]
    },
    {
      "cell_type": "code",
      "metadata": {
        "id": "3UxUp9Mu20AF"
      },
      "source": [
        "# to create a list of numbers:\n",
        "numList = [1, 2, 3, 4, 5]\n",
        "\n",
        "# we can have a list with different data types\n",
        "list1 = [8, \"hello world\", False, 40, \"apples\"]\n",
        "\n",
        "# to find the length of a list we can use len(list)\n",
        "print(len(list1))\n",
        "\n",
        "# you can also print out the list\n",
        "print(numList)\n",
        "\n",
        "# create your own list!\n",
        "\n",
        "# print out your list\n",
        "\n",
        "# use len() to find the length of your list\n"
      ],
      "execution_count": null,
      "outputs": []
    },
    {
      "cell_type": "markdown",
      "metadata": {
        "id": "dZkhfABS56yu"
      },
      "source": [
        "## If...Else statements\n",
        "If...Else statements are used to make different choices, which execute different instructions depending on the conditions. The following operators can be used to check conditions:\n",
        "\n",
        "*   a == b (a is equal to b)\n",
        "*   a != b (a is not equal to b)\n",
        "*   a < b (a is less than b)\n",
        "*   a > b (a is greater than b)\n",
        "*   a <= b (a is less than or equal to b)\n",
        "*   a >= b (a is greater than or equal to b)\n",
        "\n",
        "**elif** states \"if the previous conditions were not true, then try this condition\".\n",
        "\n",
        "**else** catches anything which isn't caught by the preceding conditions.\n",
        "\n",
        "Check out the examples below, and try making your own!"
      ]
    },
    {
      "cell_type": "code",
      "metadata": {
        "colab": {
          "base_uri": "https://localhost:8080/"
        },
        "id": "3rgOwgHv65AF",
        "outputId": "957825e6-e943-4d9d-c6da-b949c9e5771b"
      },
      "source": [
        "# a simple if...else statement\n",
        "a = 5\n",
        "b = 6\n",
        "if (a > b):\n",
        "  print(\"a is greater than b!!!\")\n",
        "\n",
        "# what happens if the condition is false? We can use an else statement!\n",
        "a = 6\n",
        "b = 5\n",
        "if (a > b):\n",
        "  print(\"a is greater than b!!!\")\n",
        "else:\n",
        "  print(\"b is greater than a.\")\n",
        "\n",
        "# here is how you can use elif statements\n",
        "a = 5\n",
        "b = 5\n",
        "if (a > b):\n",
        "  print(\"a is greater than b!!!\")\n",
        "elif (a == b):\n",
        "  print(\"b is equal to a\")\n",
        "else:\n",
        "  print(\"b is greater than a.\")\n",
        "\n",
        "# if...else statements can be used on strings\n",
        "str1 = \"a\"\n",
        "str2 = \"a\"\n",
        "if (str1 == str2):\n",
        "  print(\"they are the same!\")\n",
        "else:\n",
        "  print(\"they aren't the same!\")\n",
        "  \n",
        "# try making your own if...elif...else statements!\n",
        "\n",
        "\n",
        "\n"
      ],
      "execution_count": null,
      "outputs": [
        {
          "output_type": "stream",
          "text": [
            "a is greater than b!!!\n",
            "b is equal to a\n",
            "they are the same!\n"
          ],
          "name": "stdout"
        }
      ]
    },
    {
      "cell_type": "markdown",
      "metadata": {
        "id": "JbrQo10o8I77"
      },
      "source": [
        "## While Loops\n",
        "The while loop executes a set of statements as long as a condition is true. We can use the operators mentioned above for the condition."
      ]
    },
    {
      "cell_type": "code",
      "metadata": {
        "id": "Ao2fdLSa80K3"
      },
      "source": [
        "# test it out!\n",
        "i = 1\n",
        "while i < 4:\n",
        "  print(i)\n",
        "  i += 1 # shorthand for i = i + 1"
      ],
      "execution_count": null,
      "outputs": []
    },
    {
      "cell_type": "markdown",
      "metadata": {
        "id": "xg556Iey86lK"
      },
      "source": [
        "We can use the **break** statement to stop and exit the loop even if the while condition is still true."
      ]
    },
    {
      "cell_type": "code",
      "metadata": {
        "id": "3Ce9ELkl9FDR"
      },
      "source": [
        "# test it out!\n",
        "i = 0\n",
        "while i < 5:\n",
        "  print(i)\n",
        "  if i == 2:\n",
        "    break\n",
        "  i += 1 # shorthand for i = i + 1\n",
        "\n",
        "# when does the loop stop?"
      ],
      "execution_count": null,
      "outputs": []
    },
    {
      "cell_type": "markdown",
      "metadata": {
        "id": "ffAozrxM9bWv"
      },
      "source": [
        "## For Loops\n",
        "A For Loop runs (iterates) over a sequence. A set of statements can be executed for each item in the sequence.\n",
        "\n",
        "Test out the code below to see the different ways we can use For Loops!"
      ]
    },
    {
      "cell_type": "code",
      "metadata": {
        "id": "7usMfWRG-Sc5"
      },
      "source": [
        "# looping through each item in a list\n",
        "animals = [\"cat\", \"dog\", \"bear\"]\n",
        "for i in animals:\n",
        "  # other statements can be included, e.g. an if...else statement\n",
        "  print(i)\n",
        "\n",
        "# we can also loop through each character in a string\n",
        "for i in \"telephone\":\n",
        "  print(i)\n",
        "\n",
        "# we can also use a break statement to exit the for loop before it has gone through all items\n",
        "animals = [\"cat\", \"dog\", \"bear\"]\n",
        "for i in animals:\n",
        "  print(i)\n",
        "  if i == \"dog\":\n",
        "    break\n",
        "\n",
        "# the range function can also be used\n",
        "# to go through a set of code a specific number of times, the range() function can be used\n",
        "# This function returns a sequence of numbers, starting from 0 by default, and increments by 1 (by default), and ends at a specified number\n",
        "for i in range(0, 10):\n",
        "  print(i)\n",
        "\n",
        "# increments by 3\n",
        "for i in range(0, 21, 3):\n",
        "  print(i)\n",
        "\n",
        "# what do you notice about the range function?\n",
        "# well... the program ends before the end of the range! \n",
        "# This means that the range will iterate from the first number to the second number - 1!"
      ],
      "execution_count": null,
      "outputs": []
    },
    {
      "cell_type": "markdown",
      "metadata": {
        "id": "FLilqcBW_3mF"
      },
      "source": [
        "# Programming the Game\n",
        "Now, that you understand the fundamental components needed for this game, you can begin to create it! Follow below for instructions and guidance!"
      ]
    },
    {
      "cell_type": "markdown",
      "metadata": {
        "id": "9PHZs7vDV7yd"
      },
      "source": [
        "To begin, import the **random** library and create a **list** of words"
      ]
    },
    {
      "cell_type": "code",
      "metadata": {
        "id": "b4hmI9KQWXz4"
      },
      "source": [
        "# import random library\n",
        "\n",
        "# create a list of words (include any words you would like! Have at least 4 words)\n"
      ],
      "execution_count": null,
      "outputs": []
    },
    {
      "cell_type": "markdown",
      "metadata": {
        "id": "E1lVFGFOWKUG"
      },
      "source": [
        "Run the program above then follow the next instructions...\n",
        "\n",
        "Begin creating the main section of the game. Try listing the components you will need below ↓↓↓"
      ]
    },
    {
      "cell_type": "markdown",
      "metadata": {
        "id": "8PSAvCblXBdT"
      },
      "source": [
        "*   item\n",
        "*   item\n",
        "*   item\n",
        "*   item\n",
        "*   item\n",
        "*   item\n"
      ]
    },
    {
      "cell_type": "markdown",
      "metadata": {
        "id": "0i841TrsXVau"
      },
      "source": [
        "Awesome! Now try implementing these components! There are comments below to help you out."
      ]
    },
    {
      "cell_type": "code",
      "metadata": {
        "id": "2nCQP2fjXU9V"
      },
      "source": [
        "# select the random word (hint: use randint() to get the index!)\n",
        "\n",
        "# let the user know the length of the word\n",
        "\n",
        "# prompt the user to input their guess\n",
        "\n",
        "# another infinite loop while the user guesses the word\n",
        "\n",
        "  # if the guess is correct, use 'break' to exit this while loop\n",
        "\n",
        "  # if the guess is incorrect, let the user know and prompt them to enter another guess"
      ],
      "execution_count": null,
      "outputs": []
    },
    {
      "cell_type": "markdown",
      "metadata": {
        "id": "_Ed1LTLTKpmW"
      },
      "source": [
        "Test your program out! Does it work?\n",
        "\n",
        "Awesome job! Try out the extension below!"
      ]
    },
    {
      "cell_type": "markdown",
      "metadata": {
        "id": "xDHbXRyLKrIS"
      },
      "source": [
        "# Extension!\n",
        "Let's make the user able to play the game over and over again!\n",
        "\n",
        "What do you think we will need to do to program this?\n",
        "\n",
        "Will we need...\n",
        "*   boolean variables? (true / false)\n",
        "*   while loops?\n",
        "*   if...else statements?\n",
        "\n",
        "Use the space below to try to program it! ↓↓↓\n"
      ]
    },
    {
      "cell_type": "code",
      "metadata": {
        "id": "VZofgefwLhN6"
      },
      "source": [
        "# while loop\n",
        "\n",
        "  # insert your code from above here!\n",
        "\n",
        "  # prompt the user to let the program know whether they want to replay!\n",
        "\n",
        "  # add an if...else statement here... (hint: there are two ways to exit the while loop! Can you program both?)\n",
        "\n",
        "  "
      ],
      "execution_count": null,
      "outputs": []
    },
    {
      "cell_type": "markdown",
      "metadata": {
        "id": "IpjnEquaMO2L"
      },
      "source": [
        "You are done! Awesome job!"
      ]
    },
    {
      "cell_type": "markdown",
      "metadata": {
        "id": "KW7n9k8wL4Ks"
      },
      "source": [
        "# The End!\n",
        "\n",
        "Great job! You've finished programming your very own 'Guess the Word Game'!\n",
        "\n",
        "Want to try out more? Go to ... (coming soon!)\n",
        "\n",
        "Try out a more advanced version of this game: the Hangman game! (coming soon!)"
      ]
    }
  ]
}
